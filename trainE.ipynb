{
 "cells": [
  {
   "cell_type": "code",
   "execution_count": 1,
   "metadata": {},
   "outputs": [],
   "source": [
    "import torch\n",
    "import torch.nn as nn\n",
    "import torch.nn.functional as F\n",
    "import torch.optim as optim\n",
    "from torch.utils.data import DataLoader\n",
    "from tqdm.notebook import tqdm\n",
    "import numpy as np"
   ]
  },
  {
   "attachments": {},
   "cell_type": "markdown",
   "metadata": {},
   "source": [
    "## Dataset Loading"
   ]
  },
  {
   "cell_type": "code",
   "execution_count": 2,
   "metadata": {},
   "outputs": [],
   "source": [
    "from torch_geometric.datasets import WordNet18RR\n",
    "from torchvision import transforms\n",
    "transform = transforms.Compose(\n",
    "    [transforms.ToTensor()])\n",
    "\n",
    "wn18DataSet = WordNet18RR(root=\"./data\", transform=transforms)"
   ]
  },
  {
   "cell_type": "code",
   "execution_count": 3,
   "metadata": {},
   "outputs": [],
   "source": [
    "data = wn18DataSet.get(0)"
   ]
  },
  {
   "cell_type": "code",
   "execution_count": 4,
   "metadata": {},
   "outputs": [],
   "source": [
    "train_dataset = list(zip(\n",
    "    data['edge_index'][0][  data['train_mask']], \n",
    "    data['edge_type'][      data['train_mask']], \n",
    "    data['edge_index'][1][  data['train_mask']],\n",
    "))\n",
    "\n",
    "test_dataset = list(zip(\n",
    "    data['edge_index'][0][  data['test_mask']], \n",
    "    data['edge_type'][      data['test_mask']], \n",
    "    data['edge_index'][1][  data['test_mask']],\n",
    "))\n",
    "\n",
    "val_dataset = list(zip(\n",
    "    data['edge_index'][0][  data['val_mask']], \n",
    "    data['edge_type'][      data['val_mask']], \n",
    "    data['edge_index'][1][  data['val_mask']],\n",
    "))\n",
    "# datasets contain triplets of (head, relation, tail)\n"
   ]
  },
  {
   "attachments": {},
   "cell_type": "markdown",
   "metadata": {},
   "source": [
    "# TransE model"
   ]
  },
  {
   "cell_type": "code",
   "execution_count": 5,
   "metadata": {},
   "outputs": [],
   "source": [
    "from torch.nn import Embedding\n",
    "torch.norm\n",
    "class TransE(nn.Module):\n",
    "    \"\"\"\n",
    "    Implementation of multi-relation graph\n",
    "    embedding model from article: \n",
    "    https://proceedings.neurips.cc/paper/2013/file/1cecc7a77928ca8133fa24680a88d2f9-Paper.pdf\n",
    "    \"\"\"\n",
    "    \n",
    "    def __init__(self, num_entities, num_relations, embedding_dim):\n",
    "        super(TransE, self).__init__()\n",
    "        \n",
    "        uniform_scale = 6/np.sqrt(embedding_dim)\n",
    "        self.entity_embedding = Embedding(num_entities, embedding_dim)\n",
    "        self.entity_embedding.weight.data.uniform_(-uniform_scale, uniform_scale)\n",
    "        self.entity_embedding.weight.data.norm(keepdim=True)\n",
    "        \n",
    "        self.relation_embedding = Embedding(num_relations, embedding_dim)\n",
    "        self.relation_embedding.weight.data.uniform_(-uniform_scale, uniform_scale)\n",
    "        self.relation_embedding.weight.data.norm(keepdim=True)\n",
    "    def norm_embedding(self):\n",
    "        # norm embedding\n",
    "        self.entity_embedding.weight.data.norm(keepdim=True)\n",
    "            \n",
    "    def forward(self, heads, relations, tails):\n",
    "        \"\"\"returns prediction of tails embedding and real tails embedding\"\"\"\n",
    "        head_embeddings = self.entity_embedding(heads)\n",
    "        relation_embeddings = self.relation_embedding(relations)\n",
    "        tail_embeddings = self.entity_embedding(tails)\n",
    "\n",
    "        predicted_tail_embeddings = head_embeddings + relation_embeddings\n",
    "        \n",
    "        return predicted_tail_embeddings, tail_embeddings\n",
    "    \n",
    "    "
   ]
  },
  {
   "cell_type": "code",
   "execution_count": 6,
   "metadata": {},
   "outputs": [],
   "source": [
    "num_entities = data.num_nodes\n",
    "num_relations = data.num_edge_types\n",
    "embedding_dim = 50\n",
    "learning_rate = 0.01\n",
    "margin = 1\n",
    "batch_size = 1024\n",
    "num_epochs = 120\n",
    "\n",
    "criterion = nn.MarginRankingLoss(margin=margin)\n",
    "distance_func = torch.nn.MSELoss(reduction='none')"
   ]
  },
  {
   "cell_type": "code",
   "execution_count": 7,
   "metadata": {},
   "outputs": [],
   "source": [
    "def count_distance(batch, model):\n",
    "    \"\"\"evaluates distance between predicted embedding and true one\"\"\"\n",
    "    head, relation, tail = batch\n",
    "    pred, label = model(head, relation, tail)\n",
    "    distance = distance_func(pred, label)\n",
    "    return distance\n",
    "        \n",
    "def make_corrupted_triplets(batch):\n",
    "    head, relation, tail = batch\n",
    "    \n",
    "    # choose randomly, where to change head\n",
    "    change_head_mask = np.random.random(len(head)) > 0.5\n",
    "    change_tail_mask = np.bitwise_not(change_head_mask)\n",
    "    c_head = torch.clone(head)\n",
    "    c_head[change_head_mask] = torch.randint(num_entities, size=(np.sum(change_head_mask),))\n",
    "    \n",
    "    c_tail = torch.clone(tail)\n",
    "    c_tail[change_tail_mask] = torch.randint(num_entities, size=(np.sum(change_tail_mask),))\n",
    "    return (c_head, relation, c_tail)\n",
    "\n",
    "\n",
    "def fit_epoch(train_loader, model, optimizer, criterion=criterion):\n",
    "    running_loss = 0.0\n",
    "    processed_data = 0\n",
    "    for batch in train_loader:\n",
    "        model.norm_embedding()\n",
    "        corrupted_batch = make_corrupted_triplets(batch)\n",
    "        optimizer.zero_grad()\n",
    "        positive_distance = count_distance(batch, model)\n",
    "        negative_distance = count_distance(corrupted_batch, model)\n",
    "        \n",
    "        loss = criterion(negative_distance, positive_distance, torch.ones_like(positive_distance))\n",
    "        loss.backward()\n",
    "        optimizer.step()\n",
    "\n",
    "        running_loss += loss.item()*batch[0].size(0)\n",
    "        processed_data += batch[0].size(0)\n",
    "    return running_loss/processed_data\n",
    "\n",
    "\n",
    "\n",
    "def train(train_ds, optimizer, model, epochs, batch_size=1024):\n",
    "    history = []\n",
    "    train_loader = DataLoader(train_ds, batch_size=batch_size, shuffle=True)\n",
    "    for epoch in tqdm(range(epochs)):\n",
    "        train_loss = fit_epoch(train_loader, model, optimizer)\n",
    "        history.append(train_loss)\n",
    "    return history"
   ]
  },
  {
   "cell_type": "code",
   "execution_count": 8,
   "metadata": {},
   "outputs": [
    {
     "data": {
      "application/json": {
       "ascii": false,
       "bar_format": null,
       "colour": null,
       "elapsed": 0.04010272026062012,
       "initial": 0,
       "n": 0,
       "ncols": null,
       "nrows": null,
       "postfix": null,
       "prefix": "",
       "rate": null,
       "total": 120,
       "unit": "it",
       "unit_divisor": 1000,
       "unit_scale": false
      },
      "application/vnd.jupyter.widget-view+json": {
       "model_id": "f7c37912b0d1491db236403ee0296358",
       "version_major": 2,
       "version_minor": 0
      },
      "text/plain": [
       "  0%|          | 0/120 [00:00<?, ?it/s]"
      ]
     },
     "metadata": {},
     "output_type": "display_data"
    }
   ],
   "source": [
    "model = TransE(num_entities, num_relations, embedding_dim)\n",
    "optimizer = optim.Adam(model.parameters(), lr=learning_rate)\n",
    "history = train(train_dataset, optimizer, model, num_epochs, batch_size=batch_size)"
   ]
  },
  {
   "cell_type": "code",
   "execution_count": 9,
   "metadata": {},
   "outputs": [
    {
     "data": {
      "image/png": "[encoded data removed]",
      "text/plain": [
       "<Figure size 640x480 with 1 Axes>"
      ]
     },
     "metadata": {},
     "output_type": "display_data"
    }
   ],
   "source": [
    "import numpy as np\n",
    "import matplotlib.pyplot as plt\n",
    "\n",
    "plt.plot(history)\n",
    "plt.legend([\"train\"])\n",
    "plt.xlabel(\"epoch\")\n",
    "plt.ylabel(\"mean margin loss\")\n",
    "plt.title(\"Learning curves\")\n",
    "None"
   ]
  },
  {
   "cell_type": "code",
   "execution_count": null,
   "metadata": {},
   "outputs": [],
   "source": []
  }
 ],
 "metadata": {
  "kernelspec": {
   "display_name": "rqc_env",
   "language": "python",
   "name": "python3"
  },
  "language_info": {
   "codemirror_mode": {
    "name": "ipython",
    "version": 3
   },
   "file_extension": ".py",
   "mimetype": "text/x-python",
   "name": "python",
   "nbconvert_exporter": "python",
   "pygments_lexer": "ipython3",
   "version": "3.10.10"
  },
  "orig_nbformat": 4
 },
 "nbformat": 4,
 "nbformat_minor": 2
}
